{
  "nbformat": 4,
  "nbformat_minor": 0,
  "metadata": {
    "colab": {
      "name": "Matt_Cherry_Final_Code",
      "provenance": [],
      "collapsed_sections": [],
      "authorship_tag": "ABX9TyMq/dT/vQ0kqV0xzvpCMVlK",
      "include_colab_link": true
    },
    "kernelspec": {
      "name": "python3",
      "display_name": "Python 3"
    }
  },
  "cells": [
    {
      "cell_type": "markdown",
      "metadata": {
        "id": "view-in-github",
        "colab_type": "text"
      },
      "source": [
        "<a href=\"https://colab.research.google.com/github/GundamYeti/MSDS462_Winter2020/blob/master/Matt_Cherry_Final_Code.ipynb\" target=\"_parent\"><img src=\"https://colab.research.google.com/assets/colab-badge.svg\" alt=\"Open In Colab\"/></a>"
      ]
    },
    {
      "cell_type": "markdown",
      "metadata": {
        "id": "rlz--odN7xEI",
        "colab_type": "text"
      },
      "source": [
        "### Javascript for activating Text Message\n",
        "\n",
        "const AWS = require('aws-sdk');\n",
        "\n",
        "\n",
        "/*\n",
        "*   Be sure to add email and phone_number to the function's environment variables\n",
        "*/\n",
        "const email = process.env.email;\n",
        "const phone_number = process.env.phone_number;\n",
        "const SNS = new AWS.SNS({ apiVersion: '2010-03-31' });\n",
        "\n",
        "exports.handler = (event, context, callback) => {\n",
        "    console.log('Received event:', event);\n",
        "\n",
        "    // publish message\n",
        "    const params = {\n",
        "        Message: 'Norbert is out of his room! Call the landlord!',\n",
        "        PhoneNumber: phone_number\n",
        "    };\n",
        "    if (event.dog > 0.5) {\n",
        "        SNS.publish(params, callback);\n",
        "    }\n",
        "    \n",
        "};"
      ]
    },
    {
      "cell_type": "markdown",
      "metadata": {
        "id": "AYJKtj5_7xWv",
        "colab_type": "text"
      },
      "source": [
        "#SQL For selecting from IOT Topic Stream\n",
        "\n",
        "SELECT * FROM '$aws/things/deeplens_Ul9nkr0jRh-AHKABBSYcmw/infer'"
      ]
    }
  ]
}