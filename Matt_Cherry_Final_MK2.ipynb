{
  "nbformat": 4,
  "nbformat_minor": 0,
  "metadata": {
    "colab": {
      "name": "Matt_Cherry_Final_MK2.ipynb",
      "provenance": [],
      "collapsed_sections": [],
      "authorship_tag": "ABX9TyPTXG43NVzmoojHvIovqN8l",
      "include_colab_link": true
    },
    "kernelspec": {
      "name": "python3",
      "display_name": "Python 3"
    }
  },
  "cells": [
    {
      "cell_type": "markdown",
      "metadata": {
        "id": "view-in-github",
        "colab_type": "text"
      },
      "source": [
        "<a href=\"https://colab.research.google.com/github/GundamYeti/MSDS462_Winter2020/blob/master/Matt_Cherry_Final_MK2.ipynb\" target=\"_parent\"><img src=\"https://colab.research.google.com/assets/colab-badge.svg\" alt=\"Open In Colab\"/></a>"
      ]
    },
    {
      "cell_type": "code",
      "metadata": {
        "id": "UIjx7oIjn4lx",
        "colab_type": "code",
        "outputId": "bc33d720-610c-47d2-cc53-d3953d4b1baf",
        "colab": {
          "base_uri": "https://localhost:8080/",
          "height": 495
        }
      },
      "source": [
        "!pip install google-cloud-vision"
      ],
      "execution_count": 1,
      "outputs": [
        {
          "output_type": "stream",
          "text": [
            "Collecting google-cloud-vision\n",
            "\u001b[?25l  Downloading https://files.pythonhosted.org/packages/f8/6b/8c1284f9f1b1cfd6323b0c64d1abf3ca7c98b5860aa18f40396e3a193b67/google_cloud_vision-0.41.0-py2.py3-none-any.whl (431kB)\n",
            "\u001b[K     |████████████████████████████████| 440kB 2.8MB/s \n",
            "\u001b[?25hRequirement already satisfied: google-api-core[grpc]<2.0.0dev,>=1.14.0 in /usr/local/lib/python3.6/dist-packages (from google-cloud-vision) (1.15.0)\n",
            "Requirement already satisfied: requests<3.0.0dev,>=2.18.0 in /usr/local/lib/python3.6/dist-packages (from google-api-core[grpc]<2.0.0dev,>=1.14.0->google-cloud-vision) (2.21.0)\n",
            "Requirement already satisfied: setuptools>=34.0.0 in /usr/local/lib/python3.6/dist-packages (from google-api-core[grpc]<2.0.0dev,>=1.14.0->google-cloud-vision) (42.0.2)\n",
            "Requirement already satisfied: six>=1.10.0 in /usr/local/lib/python3.6/dist-packages (from google-api-core[grpc]<2.0.0dev,>=1.14.0->google-cloud-vision) (1.12.0)\n",
            "Requirement already satisfied: pytz in /usr/local/lib/python3.6/dist-packages (from google-api-core[grpc]<2.0.0dev,>=1.14.0->google-cloud-vision) (2018.9)\n",
            "Requirement already satisfied: googleapis-common-protos<2.0dev,>=1.6.0 in /usr/local/lib/python3.6/dist-packages (from google-api-core[grpc]<2.0.0dev,>=1.14.0->google-cloud-vision) (1.6.0)\n",
            "Requirement already satisfied: google-auth<2.0dev,>=0.4.0 in /usr/local/lib/python3.6/dist-packages (from google-api-core[grpc]<2.0.0dev,>=1.14.0->google-cloud-vision) (1.4.2)\n",
            "Requirement already satisfied: protobuf>=3.4.0 in /usr/local/lib/python3.6/dist-packages (from google-api-core[grpc]<2.0.0dev,>=1.14.0->google-cloud-vision) (3.10.0)\n",
            "Requirement already satisfied: grpcio<2.0dev,>=1.8.2; extra == \"grpc\" in /usr/local/lib/python3.6/dist-packages (from google-api-core[grpc]<2.0.0dev,>=1.14.0->google-cloud-vision) (1.15.0)\n",
            "Requirement already satisfied: urllib3<1.25,>=1.21.1 in /usr/local/lib/python3.6/dist-packages (from requests<3.0.0dev,>=2.18.0->google-api-core[grpc]<2.0.0dev,>=1.14.0->google-cloud-vision) (1.24.3)\n",
            "Requirement already satisfied: idna<2.9,>=2.5 in /usr/local/lib/python3.6/dist-packages (from requests<3.0.0dev,>=2.18.0->google-api-core[grpc]<2.0.0dev,>=1.14.0->google-cloud-vision) (2.8)\n",
            "Requirement already satisfied: chardet<3.1.0,>=3.0.2 in /usr/local/lib/python3.6/dist-packages (from requests<3.0.0dev,>=2.18.0->google-api-core[grpc]<2.0.0dev,>=1.14.0->google-cloud-vision) (3.0.4)\n",
            "Requirement already satisfied: certifi>=2017.4.17 in /usr/local/lib/python3.6/dist-packages (from requests<3.0.0dev,>=2.18.0->google-api-core[grpc]<2.0.0dev,>=1.14.0->google-cloud-vision) (2019.11.28)\n",
            "Requirement already satisfied: pyasn1-modules>=0.2.1 in /usr/local/lib/python3.6/dist-packages (from google-auth<2.0dev,>=0.4.0->google-api-core[grpc]<2.0.0dev,>=1.14.0->google-cloud-vision) (0.2.7)\n",
            "Requirement already satisfied: rsa>=3.1.4 in /usr/local/lib/python3.6/dist-packages (from google-auth<2.0dev,>=0.4.0->google-api-core[grpc]<2.0.0dev,>=1.14.0->google-cloud-vision) (4.0)\n",
            "Requirement already satisfied: cachetools>=2.0.0 in /usr/local/lib/python3.6/dist-packages (from google-auth<2.0dev,>=0.4.0->google-api-core[grpc]<2.0.0dev,>=1.14.0->google-cloud-vision) (4.0.0)\n",
            "Requirement already satisfied: pyasn1<0.5.0,>=0.4.6 in /usr/local/lib/python3.6/dist-packages (from pyasn1-modules>=0.2.1->google-auth<2.0dev,>=0.4.0->google-api-core[grpc]<2.0.0dev,>=1.14.0->google-cloud-vision) (0.4.8)\n",
            "Installing collected packages: google-cloud-vision\n",
            "Successfully installed google-cloud-vision-0.41.0\n"
          ],
          "name": "stdout"
        },
        {
          "output_type": "display_data",
          "data": {
            "application/vnd.colab-display-data+json": {
              "pip_warning": {
                "packages": [
                  "google"
                ]
              }
            }
          },
          "metadata": {
            "tags": []
          }
        }
      ]
    },
    {
      "cell_type": "code",
      "metadata": {
        "id": "6SnKEu7yn-pU",
        "colab_type": "code",
        "colab": {}
      },
      "source": [
        "from google.cloud import vision\n",
        "\n",
        "import pandas as pd\n",
        "import numpy as np\n",
        "import matplotlib.pyplot as plt\n",
        "\n",
        "import time\n",
        "import matplotlib.pyplot as plt\n",
        "\n",
        "import os\n",
        "import io\n",
        "\n",
        "\n",
        "from google.cloud import vision\n",
        "from google.cloud import storage\n",
        "from google.cloud.vision_v1 import enums\n",
        "from google.cloud.vision_v1 import ImageAnnotatorClient\n",
        "from google.cloud.vision_v1 import types\n",
        "import os\n",
        "import json\n",
        "\n",
        "import os\n",
        "from google.cloud import vision\n",
        "from google.cloud.vision import types\n",
        "from PIL import Image as Img, ImageDraw\n",
        "from IPython.display import Image\n",
        "\n",
        "%matplotlib inline\n",
        "\n",
        "import numpy as np\n",
        "import matplotlib.pyplot as plt\n"
      ],
      "execution_count": 0,
      "outputs": []
    },
    {
      "cell_type": "code",
      "metadata": {
        "id": "MY6jAmP9gphg",
        "colab_type": "code",
        "outputId": "6593504d-6b01-491a-a409-4e294b706944",
        "colab": {
          "base_uri": "https://localhost:8080/",
          "height": 125
        }
      },
      "source": [
        "from google.colab import drive\n",
        "drive.mount('/content/drive')\n",
        "\n",
        "os.environ[\"GOOGLE_APPLICATION_CREDENTIALS\"]='/content/drive/My Drive/JSON_Keys/PhotoID.json' \n"
      ],
      "execution_count": 3,
      "outputs": [
        {
          "output_type": "stream",
          "text": [
            "Go to this URL in a browser: https://accounts.google.com/o/oauth2/auth?client_id=947318989803-6bn6qk8qdgf4n4g3pfee6491hc0brc4i.apps.googleusercontent.com&redirect_uri=urn%3aietf%3awg%3aoauth%3a2.0%3aoob&response_type=code&scope=email%20https%3a%2f%2fwww.googleapis.com%2fauth%2fdocs.test%20https%3a%2f%2fwww.googleapis.com%2fauth%2fdrive%20https%3a%2f%2fwww.googleapis.com%2fauth%2fdrive.photos.readonly%20https%3a%2f%2fwww.googleapis.com%2fauth%2fpeopleapi.readonly\n",
            "\n",
            "Enter your authorization code:\n",
            "··········\n",
            "Mounted at /content/drive\n"
          ],
          "name": "stdout"
        }
      ]
    },
    {
      "cell_type": "code",
      "metadata": {
        "id": "9GtLvzuH2i0d",
        "colab_type": "code",
        "colab": {}
      },
      "source": [
        "\n",
        "#vertical filter\n",
        "vertical_filter = [[-1,-2,-1], [0,0,0], [1,2,1]]\n",
        "#horizontal filter\n",
        "horizontal_filter = [[-1,0,1], [-2,0,2], [-1,0,1]]\n",
        "\n",
        "img = plt.imread(\"/content/drive/My Drive/Die_Hard/DH1.jpg\")\n",
        "\n",
        "#dimensions\n",
        "n,m,d = img.shape\n",
        "\n",
        "#edges\n",
        "edges_img = img.copy()\n",
        "\n",
        "#loop over all pixels in the image\n",
        "for row in range(3, n-2):\n",
        "    for col in range(3, m-2):\n",
        "        \n",
        "        #local 3x3 box\n",
        "        local_pixels = img[row-1:row+2, col-1:col+2, 0]\n",
        "        \n",
        "        #vertical\n",
        "        vertical_transformed_pixels = vertical_filter*local_pixels\n",
        "        vertical_score = vertical_transformed_pixels.sum()/4\n",
        "        \n",
        "        #horizontal\n",
        "        horizontal_transformed_pixels = horizontal_filter*local_pixels\n",
        "        horizontal_score = horizontal_transformed_pixels.sum()/4\n",
        "        \n",
        "        #combine score\n",
        "        edge_score = (vertical_score**2 + horizontal_score**2)**.5\n",
        "        \n",
        "        edges_img[row, col] = [edge_score]*3\n",
        "\n"
      ],
      "execution_count": 0,
      "outputs": []
    },
    {
      "cell_type": "code",
      "metadata": {
        "id": "yY6QeIu4Q8W8",
        "colab_type": "code",
        "colab": {}
      },
      "source": [
        "#remap the values in the 0-1 range\n",
        "edges_img = edges_img/edges_img.max()"
      ],
      "execution_count": 0,
      "outputs": []
    },
    {
      "cell_type": "code",
      "metadata": {
        "id": "6Z-6cU-D2i8_",
        "colab_type": "code",
        "outputId": "f496af7d-1935-4ee1-cb1b-6e9a21b27981",
        "colab": {
          "base_uri": "https://localhost:8080/",
          "height": 887
        }
      },
      "source": [
        "edges_img"
      ],
      "execution_count": 6,
      "outputs": [
        {
          "output_type": "execute_result",
          "data": {
            "text/plain": [
              "array([[[0.19634703, 0.2739726 , 0.3196347 ],\n",
              "        [0.20091324, 0.27853881, 0.32420091],\n",
              "        [0.20091324, 0.28310502, 0.32876712],\n",
              "        ...,\n",
              "        [0.10045662, 0.10958904, 0.05022831],\n",
              "        [0.10502283, 0.11415525, 0.05479452],\n",
              "        [0.11415525, 0.12328767, 0.06392694]],\n",
              "\n",
              "       [[0.18721461, 0.26940639, 0.32420091],\n",
              "        [0.19634703, 0.27853881, 0.32420091],\n",
              "        [0.20547945, 0.28767123, 0.33333333],\n",
              "        ...,\n",
              "        [0.10502283, 0.11415525, 0.05479452],\n",
              "        [0.10958904, 0.11872146, 0.05936073],\n",
              "        [0.10045662, 0.10958904, 0.05022831]],\n",
              "\n",
              "       [[0.17808219, 0.26027397, 0.31506849],\n",
              "        [0.19178082, 0.2739726 , 0.32876712],\n",
              "        [0.21004566, 0.29223744, 0.34703196],\n",
              "        ...,\n",
              "        [0.10502283, 0.11415525, 0.05479452],\n",
              "        [0.10958904, 0.11872146, 0.05936073],\n",
              "        [0.0913242 , 0.10045662, 0.04109589]],\n",
              "\n",
              "       ...,\n",
              "\n",
              "       [[0.23744292, 0.11415525, 0.06392694],\n",
              "        [0.23287671, 0.10958904, 0.05936073],\n",
              "        [0.2283105 , 0.10502283, 0.05479452],\n",
              "        ...,\n",
              "        [0.10045662, 0.10045662, 0.10045662],\n",
              "        [0.58447489, 0.3196347 , 0.2283105 ],\n",
              "        [0.57990868, 0.31506849, 0.22374429]],\n",
              "\n",
              "       [[0.23744292, 0.11415525, 0.06392694],\n",
              "        [0.2283105 , 0.10502283, 0.05479452],\n",
              "        [0.21461187, 0.10502283, 0.05022831],\n",
              "        ...,\n",
              "        [0.62557078, 0.36073059, 0.26940639],\n",
              "        [0.57990868, 0.31506849, 0.22374429],\n",
              "        [0.57534247, 0.31050228, 0.21917808]],\n",
              "\n",
              "       [[0.2283105 , 0.10502283, 0.05479452],\n",
              "        [0.21004566, 0.10045662, 0.0456621 ],\n",
              "        [0.20091324, 0.0913242 , 0.03652968],\n",
              "        ...,\n",
              "        [0.63013699, 0.3652968 , 0.2739726 ],\n",
              "        [0.57990868, 0.31506849, 0.22374429],\n",
              "        [0.57077626, 0.30593607, 0.21461187]]])"
            ]
          },
          "metadata": {
            "tags": []
          },
          "execution_count": 6
        }
      ]
    },
    {
      "cell_type": "code",
      "metadata": {
        "id": "A3WbcjAM2jCu",
        "colab_type": "code",
        "colab": {}
      },
      "source": [
        "pic = Image(\"/content/drive/My Drive/Die_Hard/DH1.jpg\", width=500, height=500)"
      ],
      "execution_count": 0,
      "outputs": []
    },
    {
      "cell_type": "code",
      "metadata": {
        "id": "0MtAxK3S2jF1",
        "colab_type": "code",
        "outputId": "9247e50b-56b6-467c-dbbb-8751df18e97d",
        "colab": {
          "base_uri": "https://localhost:8080/",
          "height": 516
        }
      },
      "source": [
        "pic"
      ],
      "execution_count": 8,
      "outputs": [
        {
          "output_type": "execute_result",
          "data": {
            "image/jpeg": "[encoded data removed]",
            "text/plain": [
              "<IPython.core.display.Image object>"
            ]
          },
          "metadata": {
            "tags": [],
            "image/jpeg": {
              "width": 500,
              "height": 500
            }
          },
          "execution_count": 8
        }
      ]
    },
    {
      "cell_type": "code",
      "metadata": {
        "id": "LQyMNY8Invv9",
        "colab_type": "code",
        "colab": {}
      },
      "source": [
        ""
      ],
      "execution_count": 0,
      "outputs": []
    },
    {
      "cell_type": "code",
      "metadata": {
        "id": "8e6cVLaanvzE",
        "colab_type": "code",
        "colab": {}
      },
      "source": [
        ""
      ],
      "execution_count": 0,
      "outputs": []
    },
    {
      "cell_type": "code",
      "metadata": {
        "id": "Hwdj8tNWnv8T",
        "colab_type": "code",
        "colab": {}
      },
      "source": [
        ""
      ],
      "execution_count": 0,
      "outputs": []
    }
  ]
}